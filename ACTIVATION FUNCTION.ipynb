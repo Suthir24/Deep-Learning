{
 "cells": [
  {
   "cell_type": "markdown",
   "id": "73397f7d",
   "metadata": {},
   "source": [
    "## BINARY STEP FUNCTION"
   ]
  },
  {
   "cell_type": "code",
   "execution_count": 7,
   "id": "06868630",
   "metadata": {},
   "outputs": [],
   "source": [
    "def binary_step(x):\n",
    "    if x<0:\n",
    "        return 0\n",
    "    else:return 1"
   ]
  },
  {
   "cell_type": "code",
   "execution_count": 3,
   "id": "5c65e5f2",
   "metadata": {},
   "outputs": [
    {
     "data": {
      "text/plain": [
       "1"
      ]
     },
     "execution_count": 3,
     "metadata": {},
     "output_type": "execute_result"
    }
   ],
   "source": [
    "binary_step(123456789)"
   ]
  },
  {
   "cell_type": "code",
   "execution_count": 8,
   "id": "b25f35f1",
   "metadata": {},
   "outputs": [
    {
     "data": {
      "text/plain": [
       "0"
      ]
     },
     "execution_count": 8,
     "metadata": {},
     "output_type": "execute_result"
    }
   ],
   "source": [
    "binary_step(-147)"
   ]
  },
  {
   "cell_type": "markdown",
   "id": "42a00dfa",
   "metadata": {},
   "source": [
    "## LINEAR FUNCTION"
   ]
  },
  {
   "cell_type": "code",
   "execution_count": 9,
   "id": "a7eb7059",
   "metadata": {},
   "outputs": [],
   "source": [
    "def linear_function(x):\n",
    "    return 3*x"
   ]
  },
  {
   "cell_type": "code",
   "execution_count": 10,
   "id": "9f0a6d8f",
   "metadata": {},
   "outputs": [
    {
     "data": {
      "text/plain": [
       "6"
      ]
     },
     "execution_count": 10,
     "metadata": {},
     "output_type": "execute_result"
    }
   ],
   "source": [
    "linear_function(2)"
   ]
  },
  {
   "cell_type": "code",
   "execution_count": 11,
   "id": "4ae95c09",
   "metadata": {},
   "outputs": [
    {
     "data": {
      "text/plain": [
       "-1368"
      ]
     },
     "execution_count": 11,
     "metadata": {},
     "output_type": "execute_result"
    }
   ],
   "source": [
    "linear_function(-456)"
   ]
  },
  {
   "cell_type": "markdown",
   "id": "9f6cc18d",
   "metadata": {},
   "source": [
    "## SIGMOID FUNCTION"
   ]
  },
  {
   "cell_type": "code",
   "execution_count": 13,
   "id": "f4f3f18d",
   "metadata": {},
   "outputs": [],
   "source": [
    "import numpy as np"
   ]
  },
  {
   "cell_type": "code",
   "execution_count": 14,
   "id": "c7309573",
   "metadata": {},
   "outputs": [],
   "source": [
    "def sigmoid_function(x):\n",
    "    z = (1/(1+np.exp(-x)))\n",
    "    return z"
   ]
  },
  {
   "cell_type": "code",
   "execution_count": 15,
   "id": "435a3dc0",
   "metadata": {},
   "outputs": [
    {
     "data": {
      "text/plain": [
       "0.8807970779778823"
      ]
     },
     "execution_count": 15,
     "metadata": {},
     "output_type": "execute_result"
    }
   ],
   "source": [
    "sigmoid_function(2)"
   ]
  },
  {
   "cell_type": "code",
   "execution_count": 16,
   "id": "6ab085d5",
   "metadata": {},
   "outputs": [
    {
     "data": {
      "text/plain": [
       "0.11920292202211755"
      ]
     },
     "execution_count": 16,
     "metadata": {},
     "output_type": "execute_result"
    }
   ],
   "source": [
    "sigmoid_function(-2)"
   ]
  },
  {
   "cell_type": "markdown",
   "id": "90cb6656",
   "metadata": {},
   "source": [
    "## tanh"
   ]
  },
  {
   "cell_type": "code",
   "execution_count": 17,
   "id": "e47f19c2",
   "metadata": {},
   "outputs": [],
   "source": [
    "def tanh_function(x):\n",
    "    z =(2/(1+np.exp(-2*x)))-1\n",
    "    return z"
   ]
  },
  {
   "cell_type": "code",
   "execution_count": 18,
   "id": "1aeff9ee",
   "metadata": {},
   "outputs": [
    {
     "data": {
      "text/plain": [
       "0.9999092042625952"
      ]
     },
     "execution_count": 18,
     "metadata": {},
     "output_type": "execute_result"
    }
   ],
   "source": [
    "tanh_function(5)"
   ]
  },
  {
   "cell_type": "code",
   "execution_count": 19,
   "id": "c002e741",
   "metadata": {},
   "outputs": [
    {
     "data": {
      "text/plain": [
       "-0.9950547536867305"
      ]
     },
     "execution_count": 19,
     "metadata": {},
     "output_type": "execute_result"
    }
   ],
   "source": [
    "tanh_function(-3)"
   ]
  },
  {
   "cell_type": "markdown",
   "id": "2f7cd2b2",
   "metadata": {},
   "source": [
    "## ReLU"
   ]
  },
  {
   "cell_type": "code",
   "execution_count": 22,
   "id": "7038e8f4",
   "metadata": {},
   "outputs": [],
   "source": [
    "def relu_function(x):\n",
    "    if x<0:\n",
    "        return 0\n",
    "    else:\n",
    "        return x"
   ]
  },
  {
   "cell_type": "code",
   "execution_count": 23,
   "id": "a7b8f757",
   "metadata": {},
   "outputs": [
    {
     "data": {
      "text/plain": [
       "5"
      ]
     },
     "execution_count": 23,
     "metadata": {},
     "output_type": "execute_result"
    }
   ],
   "source": [
    "relu_function(5)"
   ]
  },
  {
   "cell_type": "code",
   "execution_count": 24,
   "id": "4363726d",
   "metadata": {},
   "outputs": [
    {
     "data": {
      "text/plain": [
       "0"
      ]
     },
     "execution_count": 24,
     "metadata": {},
     "output_type": "execute_result"
    }
   ],
   "source": [
    "relu_function(-5)"
   ]
  },
  {
   "cell_type": "markdown",
   "id": "33941090",
   "metadata": {},
   "source": [
    "## LEAKY ReLU"
   ]
  },
  {
   "cell_type": "code",
   "execution_count": 25,
   "id": "c8d62d3f",
   "metadata": {},
   "outputs": [],
   "source": [
    "def leakyrelu_function(x):\n",
    "    if x<0:\n",
    "        return 0.01*x\n",
    "    else:\n",
    "        return x"
   ]
  },
  {
   "cell_type": "code",
   "execution_count": 26,
   "id": "d292f558",
   "metadata": {},
   "outputs": [
    {
     "data": {
      "text/plain": [
       "6"
      ]
     },
     "execution_count": 26,
     "metadata": {},
     "output_type": "execute_result"
    }
   ],
   "source": [
    "leakyrelu_function(6)"
   ]
  },
  {
   "cell_type": "code",
   "execution_count": 27,
   "id": "343dcbab",
   "metadata": {},
   "outputs": [
    {
     "data": {
      "text/plain": [
       "-0.02"
      ]
     },
     "execution_count": 27,
     "metadata": {},
     "output_type": "execute_result"
    }
   ],
   "source": [
    "leakyrelu_function(-2)"
   ]
  },
  {
   "cell_type": "markdown",
   "id": "fd546149",
   "metadata": {},
   "source": [
    "## ELU"
   ]
  },
  {
   "cell_type": "code",
   "execution_count": 32,
   "id": "1b4f43b1",
   "metadata": {},
   "outputs": [],
   "source": [
    "def elu_function(x,a):\n",
    "    if x<0:\n",
    "        return a*(np.exp(x)-1)\n",
    "    else:\n",
    "        return x"
   ]
  },
  {
   "cell_type": "code",
   "execution_count": 33,
   "id": "be9fdb58",
   "metadata": {},
   "outputs": [
    {
     "data": {
      "text/plain": [
       "7"
      ]
     },
     "execution_count": 33,
     "metadata": {},
     "output_type": "execute_result"
    }
   ],
   "source": [
    "elu_function(7,2)"
   ]
  },
  {
   "cell_type": "code",
   "execution_count": 34,
   "id": "7ba91bf9",
   "metadata": {},
   "outputs": [
    {
     "data": {
      "text/plain": [
       "-4.323323583816936"
      ]
     },
     "execution_count": 34,
     "metadata": {},
     "output_type": "execute_result"
    }
   ],
   "source": [
    "elu_function(-2,5)"
   ]
  },
  {
   "cell_type": "markdown",
   "id": "0d8f074c",
   "metadata": {},
   "source": [
    "## SWISH"
   ]
  },
  {
   "cell_type": "code",
   "execution_count": 38,
   "id": "c8e9b82a",
   "metadata": {},
   "outputs": [],
   "source": [
    "def swish_function(x):\n",
    "    return x/(1-np.exp(-x))"
   ]
  },
  {
   "cell_type": "code",
   "execution_count": 39,
   "id": "840acb50",
   "metadata": {},
   "outputs": [
    {
     "data": {
      "text/plain": [
       "1.5819767068693265"
      ]
     },
     "execution_count": 39,
     "metadata": {},
     "output_type": "execute_result"
    }
   ],
   "source": [
    "swish_function(1)"
   ]
  },
  {
   "cell_type": "code",
   "execution_count": 40,
   "id": "2011c12c",
   "metadata": {},
   "outputs": [
    {
     "data": {
      "text/plain": [
       "0.3130352854993313"
      ]
     },
     "execution_count": 40,
     "metadata": {},
     "output_type": "execute_result"
    }
   ],
   "source": [
    "swish_function(-2)"
   ]
  },
  {
   "cell_type": "markdown",
   "id": "3a984cc2",
   "metadata": {},
   "source": [
    "## SOFTMAX"
   ]
  },
  {
   "cell_type": "code",
   "execution_count": 42,
   "id": "3bdf808c",
   "metadata": {},
   "outputs": [],
   "source": [
    "def softmax_function(x):\n",
    "    z = np.exp(x)\n",
    "    p = z/z.sum()\n",
    "    return p"
   ]
  },
  {
   "cell_type": "code",
   "execution_count": 44,
   "id": "998e2564",
   "metadata": {},
   "outputs": [
    {
     "data": {
      "text/plain": [
       "array([0.65900114, 0.24243297, 0.09856589])"
      ]
     },
     "execution_count": 44,
     "metadata": {},
     "output_type": "execute_result"
    }
   ],
   "source": [
    "softmax_function([2.0,1.0,0.1])"
   ]
  }
 ],
 "metadata": {
  "kernelspec": {
   "display_name": "Python 3 (ipykernel)",
   "language": "python",
   "name": "python3"
  },
  "language_info": {
   "codemirror_mode": {
    "name": "ipython",
    "version": 3
   },
   "file_extension": ".py",
   "mimetype": "text/x-python",
   "name": "python",
   "nbconvert_exporter": "python",
   "pygments_lexer": "ipython3",
   "version": "3.10.9"
  }
 },
 "nbformat": 4,
 "nbformat_minor": 5
}
